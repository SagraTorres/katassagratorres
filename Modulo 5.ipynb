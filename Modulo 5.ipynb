{
 "cells": [
  {
   "cell_type": "markdown",
   "metadata": {},
   "source": [
    "Operadores aritméticos"
   ]
  },
  {
   "cell_type": "code",
   "execution_count": 30,
   "metadata": {},
   "outputs": [
    {
     "name": "stdout",
     "output_type": "stream",
     "text": [
      "Distancia: 628999330 \n",
      "Distancia en millas: 390608583.93\n"
     ]
    }
   ],
   "source": [
    "Jupiter = 778547200\n",
    "Tierra = 149547870\n",
    "Distancia = Jupiter - Tierra\n",
    "print(f'Distancia: {Distancia} \\nDistancia en millas: {Distancia * 0.621}')"
   ]
  },
  {
   "cell_type": "code",
   "execution_count": 5,
   "metadata": {},
   "outputs": [
    {
     "name": "stdout",
     "output_type": "stream",
     "text": [
      "Distancia entre planetas : 166100000 \n",
      " Distancia en millas: 103148100.0\n"
     ]
    }
   ],
   "source": [
    "planeta1 = input('Ingresa el valor del planeta 1')\n",
    "planeta2 = input('Ingresa el valor del planeta 2')\n",
    "PL1 = int(planeta1)\n",
    "PL2 = int (planeta2)\n",
    "DistanciaF=abs(PL1+PL2)\n",
    "print(f'Distancia entre planetas : {DistanciaF} \\n Distancia en millas: {DistanciaF*0.621}')"
   ]
  }
 ],
 "metadata": {
  "interpreter": {
   "hash": "278e3ae537b4b52cc2c623391f8b3487cd206fe4eec16baac5d76d2acad8d2cd"
  },
  "kernelspec": {
   "display_name": "Python 3.9.7 ('base')",
   "language": "python",
   "name": "python3"
  },
  "language_info": {
   "codemirror_mode": {
    "name": "ipython",
    "version": 3
   },
   "file_extension": ".py",
   "mimetype": "text/x-python",
   "name": "python",
   "nbconvert_exporter": "python",
   "pygments_lexer": "ipython3",
   "version": "3.9.7"
  },
  "orig_nbformat": 4
 },
 "nbformat": 4,
 "nbformat_minor": 2
}
