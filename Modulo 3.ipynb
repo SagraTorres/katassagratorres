{
 "cells": [
  {
   "cell_type": "markdown",
   "metadata": {},
   "source": [
    "#Declaraciones if, else y elif"
   ]
  },
  {
   "cell_type": "code",
   "execution_count": 12,
   "metadata": {},
   "outputs": [
    {
     "name": "stdout",
     "output_type": "stream",
     "text": [
      "¡Advertencia: el asteroide se acerca demasiado rápido!\n"
     ]
    }
   ],
   "source": [
    "velocidad == 49\n",
    "if velocidad > 25:\n",
    "    print('¡Advertencia: el asteroide se acerca demasiado rápido!')\n",
    "else:\n",
    "    print('Velocidad normal')"
   ]
  },
  {
   "cell_type": "code",
   "execution_count": 1,
   "metadata": {},
   "outputs": [
    {
     "name": "stdout",
     "output_type": "stream",
     "text": [
      "No se podrá ver el asteroide\n"
     ]
    }
   ],
   "source": [
    "velocidad = 19\n",
    "if velocidad > 20 :\n",
    "    print('Se puede ver un rayo de luz desde la tierra')\n",
    "elif velocidad == 20 :\n",
    "    print('Se puede ver un rayo de luz desde la tierra')\n",
    "else:\n",
    "    print('No se podrá ver el asteroide')"
   ]
  },
  {
   "cell_type": "code",
   "execution_count": 13,
   "metadata": {},
   "outputs": [
    {
     "name": "stdout",
     "output_type": "stream",
     "text": [
      "Alerta, asteroide visible, si golpea la tierra causará un gran daño\n"
     ]
    }
   ],
   "source": [
    "velocidad = 39\n",
    "tamaño = 800\n",
    "if velocidad > 20:\n",
    "    if velocidad > 25 :\n",
    "        if tamaño <= 25:\n",
    "            print ('Aviso: asteroide visible, pero se destruira al entra a la atmosfera')\n",
    "        elif tamaño > 25 and tamaño < 1000:\n",
    "            print('Alerta, asteroide visible, si golpea la tierra causará un gran daño')\n",
    "elif velocidad <=20:\n",
    "    if tamaño <= 25:\n",
    "        print ('Alerta: asteroide no visible y se destruira al entrar a la atmosfera')\n",
    "    elif tamaño > 25 and tamaño < 1000:\n",
    "        print('Aviso, asteroide no visible, si golpea la tierra causará un gran daño')"
   ]
  }
 ],
 "metadata": {
  "interpreter": {
   "hash": "278e3ae537b4b52cc2c623391f8b3487cd206fe4eec16baac5d76d2acad8d2cd"
  },
  "kernelspec": {
   "display_name": "Python 3.9.7 ('base')",
   "language": "python",
   "name": "python3"
  },
  "language_info": {
   "codemirror_mode": {
    "name": "ipython",
    "version": 3
   },
   "file_extension": ".py",
   "mimetype": "text/x-python",
   "name": "python",
   "nbconvert_exporter": "python",
   "pygments_lexer": "ipython3",
   "version": "3.9.7"
  },
  "orig_nbformat": 4
 },
 "nbformat": 4,
 "nbformat_minor": 2
}
