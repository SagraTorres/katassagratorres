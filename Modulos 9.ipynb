{
 "cells": [
  {
   "cell_type": "code",
   "execution_count": null,
   "metadata": {},
   "outputs": [],
   "source": []
  },
  {
   "cell_type": "markdown",
   "metadata": {},
   "source": [
    "Funciones en Python"
   ]
  },
  {
   "cell_type": "code",
   "execution_count": 3,
   "metadata": {},
   "outputs": [
    {
     "name": "stdout",
     "output_type": "stream",
     "text": [
      "('Promedio', 86.66666666666667)\n"
     ]
    }
   ],
   "source": [
    "def lecturas(tanque1, tanque2, tanque3):\n",
    "    promedio = ((tanque1+tanque2+tanque3)/3 )\n",
    "    return 'Promedio',promedio\n",
    "print(lecturas(10,50,200)) \n"
   ]
  },
  {
   "cell_type": "code",
   "execution_count": 10,
   "metadata": {},
   "outputs": [
    {
     "name": "stdout",
     "output_type": "stream",
     "text": [
      "86.66666666666667\n"
     ]
    }
   ],
   "source": [
    "def promedio(lecturas):\n",
    "    total = sum(lecturas)\n",
    "    cuentalecturas = len(lecturas)\n",
    "    return total/cuentalecturas\n",
    "\n",
    "def lecturas(tanque1, tanque2, tanque3):\n",
    "    return promedio([tanque1,tanque2,tanque3])\n",
    "    \n",
    "\n",
    "print(lecturas(10,50,200))"
   ]
  },
  {
   "cell_type": "code",
   "execution_count": 8,
   "metadata": {},
   "outputs": [
    {
     "name": "stdout",
     "output_type": "stream",
     "text": [
      "vuelo con destino a mexico tiempo hasta el destino, 8 total combustible 110\n"
     ]
    }
   ],
   "source": [
    "def informe_mision (prelanzamiento, t_vuelo,destino, e_tanque,i_tanque):\n",
    "    return f'vuelo con destino a {destino} tiempo hasta el destino {t_vuelo+prelanzamiento} total combustible {e_tanque+i_tanque}'\n",
    "\n",
    "print(informe_mision(4,4,'mexico',50,60))"
   ]
  },
  {
   "cell_type": "code",
   "execution_count": 60,
   "metadata": {},
   "outputs": [
    {
     "name": "stdout",
     "output_type": "stream",
     "text": [
      "vuelo con destino a mexico tiempo hasta el destino 120 total combustible 50000main tanque 30000 restantesexternal tanque 20000 restantes\n"
     ]
    }
   ],
   "source": [
    "def informe_mision (destino, *minutos, **fuel_reserviors):\n",
    "    reporte = f'vuelo con destino a {destino} tiempo hasta el destino {sum(minutos)} total combustible {sum(fuel_reserviors.values())}'\n",
    "\n",
    "    for tanque, litros in fuel_reserviors.items():\n",
    "        reporte += f'{tanque} tanque {litros} restantes'\n",
    "    return reporte\n",
    "\n",
    "print(informe_mision('mexico',50,60,10, main=30000,external=20000))"
   ]
  }
 ],
 "metadata": {
  "interpreter": {
   "hash": "63fd5069d213b44bf678585dea6b12cceca9941eaf7f819626cde1f2670de90d"
  },
  "kernelspec": {
   "display_name": "Python 3.9.1 64-bit",
   "language": "python",
   "name": "python3"
  },
  "language_info": {
   "codemirror_mode": {
    "name": "ipython",
    "version": 3
   },
   "file_extension": ".py",
   "mimetype": "text/x-python",
   "name": "python",
   "nbconvert_exporter": "python",
   "pygments_lexer": "ipython3",
   "version": "3.9.1"
  },
  "orig_nbformat": 4
 },
 "nbformat": 4,
 "nbformat_minor": 2
}
