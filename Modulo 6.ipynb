{
 "cells": [
  {
   "cell_type": "markdown",
   "metadata": {},
   "source": [
    "Crear y usar listas de Python   "
   ]
  },
  {
   "cell_type": "code",
   "execution_count": 13,
   "metadata": {},
   "outputs": [
    {
     "name": "stdout",
     "output_type": "stream",
     "text": [
      "numero de planetas:  9 Ultimo planeta: pluton\n"
     ]
    }
   ],
   "source": [
    "planets=['mercurio','venus','tierra','marte','jupiter','saturno','urano','neptuno']\n",
    "code=len(planets)\n",
    "code\n",
    "planets.append('pluton')\n",
    "code = len(planets)\n",
    "print('numero de planetas: ',len(planets), 'Ultimo planeta:',planets[code-1])"
   ]
  },
  {
   "cell_type": "code",
   "execution_count": 26,
   "metadata": {},
   "outputs": [
    {
     "name": "stdout",
     "output_type": "stream",
     "text": [
      "el planeta es:  tierra los mas cercanos son venus y marte\n",
      "hay planetas mas cercanos al sol que tierra \n",
      " ejemplo: ['mercurio', 'venus'] y tambien mas lejanos, como: ['marte', 'jupiter', 'saturno', 'urano', 'neptuno']\n"
     ]
    }
   ],
   "source": [
    "planetas=['mercurio','venus','tierra','marte','jupiter','saturno','urano','neptuno']\n",
    "planeta=input('¿Qué planeta deseas encontrar?')\n",
    "buscar=planetas.index(planeta)\n",
    "print('el planeta es: ',planetas[buscar],'los mas cercanos son',planetas[buscar-1],'y',planetas[buscar+1])\n",
    "print('hay planetas mas cercanos al sol que '+planeta,'\\n ejemplo:',planetas[0:buscar], 'y tambien mas lejanos, como:',planetas[buscar+1:]  )\n"
   ]
  }
 ],
 "metadata": {
  "interpreter": {
   "hash": "63fd5069d213b44bf678585dea6b12cceca9941eaf7f819626cde1f2670de90d"
  },
  "kernelspec": {
   "display_name": "Python 3.9.1 64-bit",
   "language": "python",
   "name": "python3"
  },
  "language_info": {
   "codemirror_mode": {
    "name": "ipython",
    "version": 3
   },
   "file_extension": ".py",
   "mimetype": "text/x-python",
   "name": "python",
   "nbconvert_exporter": "python",
   "pygments_lexer": "ipython3",
   "version": "3.9.1"
  },
  "orig_nbformat": 4
 },
 "nbformat": 4,
 "nbformat_minor": 2
}
